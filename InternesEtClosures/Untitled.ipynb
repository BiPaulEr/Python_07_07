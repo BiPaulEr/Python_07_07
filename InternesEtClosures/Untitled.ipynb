{
 "cells": [
  {
   "cell_type": "code",
   "execution_count": 1,
   "id": "79da50bd-8415-4bc2-9727-b91843d1baa2",
   "metadata": {},
   "outputs": [
    {
     "name": "stdout",
     "output_type": "stream",
     "text": [
      "4\n"
     ]
    }
   ],
   "source": [
    "liste = [1, 2, 3, 4]\n",
    "print(len(liste))"
   ]
  },
  {
   "cell_type": "code",
   "execution_count": 4,
   "id": "e0ab5a85-22b5-4c5a-9794-2d944b2f6b13",
   "metadata": {},
   "outputs": [],
   "source": [
    "def len(liste):\n",
    "    return 42"
   ]
  },
  {
   "cell_type": "code",
   "execution_count": 5,
   "id": "3aedc9c6-d4df-4894-b222-e9f79b1ff442",
   "metadata": {},
   "outputs": [
    {
     "data": {
      "text/plain": [
       "42"
      ]
     },
     "execution_count": 5,
     "metadata": {},
     "output_type": "execute_result"
    }
   ],
   "source": [
    "len(liste)"
   ]
  },
  {
   "cell_type": "code",
   "execution_count": 8,
   "id": "6a1596cb-ad75-4760-858d-a8bd5aa6a661",
   "metadata": {},
   "outputs": [
    {
     "name": "stdout",
     "output_type": "stream",
     "text": [
      "ma_fonction: 1\n",
      "global: 0\n"
     ]
    }
   ],
   "source": [
    "def ma_fonction():\n",
    "    test = 1  # Portée locale\n",
    "    print('ma_fonction:', test)\n",
    "\n",
    "test = 0  # Portée globale\n",
    "ma_fonction()\n",
    "print('global:', test)\n"
   ]
  },
  {
   "cell_type": "code",
   "execution_count": 11,
   "id": "42c42c7c-cd34-4167-8a31-7480377bdaaa",
   "metadata": {},
   "outputs": [
    {
     "name": "stdout",
     "output_type": "stream",
     "text": [
      "interieur: 2\n",
      "exterieur: 2\n",
      "global: 0\n"
     ]
    }
   ],
   "source": [
    "def exterieur():\n",
    "    test = 1  # Portée de la fonction exterieur\n",
    "    def interieur():\n",
    "        nonlocal test\n",
    "        test = 2  # Portée de la fonction interieur\n",
    "        print('interieur:', test)\n",
    "    interieur()\n",
    "    print('exterieur:', test)\n",
    "\n",
    "test = 0  # Portée globale\n",
    "exterieur()\n",
    "print('global:', test)"
   ]
  },
  {
   "cell_type": "code",
   "execution_count": 12,
   "id": "e4c1cca0-3bbf-4763-8627-88c7a5dbae17",
   "metadata": {},
   "outputs": [
    {
     "ename": "NameError",
     "evalue": "name 'jhgafadjkvkadgkjeag' is not defined",
     "output_type": "error",
     "traceback": [
      "\u001b[31m---------------------------------------------------------------------------\u001b[39m",
      "\u001b[31mNameError\u001b[39m                                 Traceback (most recent call last)",
      "\u001b[36mCell\u001b[39m\u001b[36m \u001b[39m\u001b[32mIn[12]\u001b[39m\u001b[32m, line 1\u001b[39m\n\u001b[32m----> \u001b[39m\u001b[32m1\u001b[39m \u001b[43mjhgafadjkvkadgkjeag\u001b[49m\n",
      "\u001b[31mNameError\u001b[39m: name 'jhgafadjkvkadgkjeag' is not defined"
     ]
    }
   ],
   "source": [
    "jhgafadjkvkadgkjeag"
   ]
  },
  {
   "cell_type": "code",
   "execution_count": null,
   "id": "17c70bb4-0f45-4a3c-9962-14d00de2193c",
   "metadata": {},
   "outputs": [],
   "source": []
  }
 ],
 "metadata": {
  "kernelspec": {
   "display_name": "Python 3 (ipykernel)",
   "language": "python",
   "name": "python3"
  },
  "language_info": {
   "codemirror_mode": {
    "name": "ipython",
    "version": 3
   },
   "file_extension": ".py",
   "mimetype": "text/x-python",
   "name": "python",
   "nbconvert_exporter": "python",
   "pygments_lexer": "ipython3",
   "version": "3.12.8"
  }
 },
 "nbformat": 4,
 "nbformat_minor": 5
}
