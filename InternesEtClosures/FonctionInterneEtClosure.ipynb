{
 "cells": [
  {
   "cell_type": "code",
   "execution_count": 1,
   "id": "79da50bd-8415-4bc2-9727-b91843d1baa2",
   "metadata": {},
   "outputs": [
    {
     "name": "stdout",
     "output_type": "stream",
     "text": [
      "4\n"
     ]
    }
   ],
   "source": [
    "liste = [1, 2, 3, 4]\n",
    "print(len(liste))"
   ]
  },
  {
   "cell_type": "code",
   "execution_count": 4,
   "id": "e0ab5a85-22b5-4c5a-9794-2d944b2f6b13",
   "metadata": {},
   "outputs": [],
   "source": [
    "def len(liste):\n",
    "    return 42"
   ]
  },
  {
   "cell_type": "code",
   "execution_count": 5,
   "id": "3aedc9c6-d4df-4894-b222-e9f79b1ff442",
   "metadata": {},
   "outputs": [
    {
     "data": {
      "text/plain": [
       "42"
      ]
     },
     "execution_count": 5,
     "metadata": {},
     "output_type": "execute_result"
    }
   ],
   "source": [
    "len(liste)"
   ]
  },
  {
   "cell_type": "code",
   "execution_count": 8,
   "id": "6a1596cb-ad75-4760-858d-a8bd5aa6a661",
   "metadata": {},
   "outputs": [
    {
     "name": "stdout",
     "output_type": "stream",
     "text": [
      "ma_fonction: 1\n",
      "global: 0\n"
     ]
    }
   ],
   "source": [
    "def ma_fonction():\n",
    "    test = 1  # Portée locale\n",
    "    print('ma_fonction:', test)\n",
    "\n",
    "test = 0  # Portée globale\n",
    "ma_fonction()\n",
    "print('global:', test)\n"
   ]
  },
  {
   "cell_type": "code",
   "execution_count": 11,
   "id": "42c42c7c-cd34-4167-8a31-7480377bdaaa",
   "metadata": {},
   "outputs": [
    {
     "name": "stdout",
     "output_type": "stream",
     "text": [
      "interieur: 2\n",
      "exterieur: 2\n",
      "global: 0\n"
     ]
    }
   ],
   "source": [
    "def exterieur():\n",
    "    test = 1  # Portée de la fonction exterieur\n",
    "    def interieur():\n",
    "        nonlocal test\n",
    "        test = 2  # Portée de la fonction interieur\n",
    "        print('interieur:', test)\n",
    "    interieur()\n",
    "    print('exterieur:', test)\n",
    "\n",
    "test = 0  # Portée globale\n",
    "exterieur()\n",
    "print('global:', test)"
   ]
  },
  {
   "cell_type": "code",
   "execution_count": 12,
   "id": "e4c1cca0-3bbf-4763-8627-88c7a5dbae17",
   "metadata": {},
   "outputs": [
    {
     "ename": "NameError",
     "evalue": "name 'jhgafadjkvkadgkjeag' is not defined",
     "output_type": "error",
     "traceback": [
      "\u001b[31m---------------------------------------------------------------------------\u001b[39m",
      "\u001b[31mNameError\u001b[39m                                 Traceback (most recent call last)",
      "\u001b[36mCell\u001b[39m\u001b[36m \u001b[39m\u001b[32mIn[12]\u001b[39m\u001b[32m, line 1\u001b[39m\n\u001b[32m----> \u001b[39m\u001b[32m1\u001b[39m \u001b[43mjhgafadjkvkadgkjeag\u001b[49m\n",
      "\u001b[31mNameError\u001b[39m: name 'jhgafadjkvkadgkjeag' is not defined"
     ]
    }
   ],
   "source": [
    "jhgafadjkvkadgkjeag"
   ]
  },
  {
   "cell_type": "code",
   "execution_count": 23,
   "id": "17c70bb4-0f45-4a3c-9962-14d00de2193c",
   "metadata": {},
   "outputs": [
    {
     "name": "stdout",
     "output_type": "stream",
     "text": [
      "<list object at 0x00000224A660E140>\n",
      "<list object at 0x00000224A660E140>\n",
      "<list object at 0x00000224A65FB9C0>\n",
      "[1, 2, 3]\n",
      "[1, 42, 3]\n"
     ]
    }
   ],
   "source": [
    "import copy \n",
    "x = [1, 2, 3]\n",
    "y = x\n",
    "z = copy.deepcopy(x)\n",
    "print(super(list, x).__repr__())\n",
    "print(super(list, y).__repr__())\n",
    "print(super(list, z).__repr__())\n",
    "def func(x):\n",
    "    x[1] = 42\n",
    "func(z)\n",
    "print(x)\n",
    "print(z)"
   ]
  },
  {
   "cell_type": "code",
   "execution_count": 27,
   "id": "ac19f111-2626-4b2e-9921-3facd934ff5d",
   "metadata": {},
   "outputs": [],
   "source": [
    "t = [3, 4, 6]"
   ]
  },
  {
   "cell_type": "code",
   "execution_count": 30,
   "id": "c06c83d3-ef45-4be9-9c69-f7a1cbb5585e",
   "metadata": {},
   "outputs": [
    {
     "data": {
      "text/plain": [
       "[3, 4, 6, 'Perroquet', 4]"
      ]
     },
     "execution_count": 30,
     "metadata": {},
     "output_type": "execute_result"
    }
   ],
   "source": [
    "t[3] = \"Perroquet\"\n",
    "t"
   ]
  },
  {
   "cell_type": "code",
   "execution_count": 31,
   "id": "4a25c018-3f65-4f25-896c-ea0e825b903e",
   "metadata": {},
   "outputs": [],
   "source": [
    "t1 = (3, 4, 5)"
   ]
  },
  {
   "cell_type": "code",
   "execution_count": 32,
   "id": "d3076ccf-c463-48e6-bd3e-22af407ada1f",
   "metadata": {},
   "outputs": [
    {
     "ename": "TypeError",
     "evalue": "'tuple' object does not support item assignment",
     "output_type": "error",
     "traceback": [
      "\u001b[31m---------------------------------------------------------------------------\u001b[39m",
      "\u001b[31mTypeError\u001b[39m                                 Traceback (most recent call last)",
      "\u001b[36mCell\u001b[39m\u001b[36m \u001b[39m\u001b[32mIn[32]\u001b[39m\u001b[32m, line 1\u001b[39m\n\u001b[32m----> \u001b[39m\u001b[32m1\u001b[39m \u001b[43mt1\u001b[49m\u001b[43m[\u001b[49m\u001b[32;43m0\u001b[39;49m\u001b[43m]\u001b[49m = \u001b[32m7\u001b[39m\n",
      "\u001b[31mTypeError\u001b[39m: 'tuple' object does not support item assignment"
     ]
    }
   ],
   "source": [
    "t1[0] = 7"
   ]
  },
  {
   "cell_type": "code",
   "execution_count": 33,
   "id": "5f706b4a-5c1b-447f-bc05-0628d45cd071",
   "metadata": {},
   "outputs": [],
   "source": [
    "dictionnaire = { \"2\" : 3, 3 : 6, 4.5 : \"OK\"}"
   ]
  },
  {
   "cell_type": "code",
   "execution_count": 34,
   "id": "f1cf0c69-cf46-40d6-9b65-35a1f9e2d656",
   "metadata": {},
   "outputs": [
    {
     "data": {
      "text/plain": [
       "{'2': 3, 3: 6, 4.5: 'OK'}"
      ]
     },
     "execution_count": 34,
     "metadata": {},
     "output_type": "execute_result"
    }
   ],
   "source": [
    "dictionnaire\n"
   ]
  },
  {
   "cell_type": "code",
   "execution_count": 35,
   "id": "329076d4-b9ae-448e-bb5f-24bbbb14d011",
   "metadata": {},
   "outputs": [
    {
     "data": {
      "text/plain": [
       "3"
      ]
     },
     "execution_count": 35,
     "metadata": {},
     "output_type": "execute_result"
    }
   ],
   "source": [
    "dictionnaire[\"2\"]"
   ]
  },
  {
   "cell_type": "code",
   "execution_count": 36,
   "id": "f5c507ab-a5c2-4451-ba28-2af0f6efa049",
   "metadata": {},
   "outputs": [],
   "source": [
    "dictionnaire[\"CLE2\"] = \"Perroqeut\"\n"
   ]
  },
  {
   "cell_type": "code",
   "execution_count": 37,
   "id": "21b24ba7-6e3a-4a42-8453-53a35cfec6c7",
   "metadata": {},
   "outputs": [
    {
     "ename": "TypeError",
     "evalue": "unhashable type: 'list'",
     "output_type": "error",
     "traceback": [
      "\u001b[31m---------------------------------------------------------------------------\u001b[39m",
      "\u001b[31mTypeError\u001b[39m                                 Traceback (most recent call last)",
      "\u001b[36mCell\u001b[39m\u001b[36m \u001b[39m\u001b[32mIn[37]\u001b[39m\u001b[32m, line 1\u001b[39m\n\u001b[32m----> \u001b[39m\u001b[32m1\u001b[39m \u001b[43mdictionnaire\u001b[49m\u001b[43m[\u001b[49m\u001b[43m[\u001b[49m\u001b[32;43m1\u001b[39;49m\u001b[43m,\u001b[49m\u001b[32;43m2\u001b[39;49m\u001b[43m]\u001b[49m\u001b[43m]\u001b[49m = \u001b[33m\"\u001b[39m\u001b[33mQUOI\u001b[39m\u001b[33m\"\u001b[39m\n",
      "\u001b[31mTypeError\u001b[39m: unhashable type: 'list'"
     ]
    }
   ],
   "source": [
    "dictionnaire[[1,2]] = \"QUOI\"\n"
   ]
  },
  {
   "cell_type": "code",
   "execution_count": 38,
   "id": "ea077b3e-df85-4d6c-88b3-3d127663a262",
   "metadata": {},
   "outputs": [],
   "source": [
    "dictionnaire[(1,2)] = \"QUOI\""
   ]
  },
  {
   "cell_type": "code",
   "execution_count": 39,
   "id": "f0b18546-d9fa-4b65-94a4-c59f6e368b99",
   "metadata": {},
   "outputs": [
    {
     "data": {
      "text/plain": [
       "{'2': 3, 3: 6, 4.5: 'OK', 'CLE2': 'Perroqeut', (1, 2): 'QUOI'}"
      ]
     },
     "execution_count": 39,
     "metadata": {},
     "output_type": "execute_result"
    }
   ],
   "source": [
    "dictionnaire\n"
   ]
  },
  {
   "cell_type": "code",
   "execution_count": 40,
   "id": "731e927d-c495-4607-b04d-63a8f776aa75",
   "metadata": {},
   "outputs": [],
   "source": [
    "dictionnaire[(1,2)] = [3, 4, 5, 6 ]"
   ]
  },
  {
   "cell_type": "code",
   "execution_count": 41,
   "id": "8a96c2ca-b596-4ee4-830a-56d3770b0b08",
   "metadata": {},
   "outputs": [
    {
     "data": {
      "text/plain": [
       "{'2': 3, 3: 6, 4.5: 'OK', 'CLE2': 'Perroqeut', (1, 2): [3, 4, 5, 6]}"
      ]
     },
     "execution_count": 41,
     "metadata": {},
     "output_type": "execute_result"
    }
   ],
   "source": [
    "dictionnaire"
   ]
  },
  {
   "cell_type": "code",
   "execution_count": null,
   "id": "9ba7cdc6-d0e1-4d50-a697-25af0a268a30",
   "metadata": {},
   "outputs": [],
   "source": []
  }
 ],
 "metadata": {
  "kernelspec": {
   "display_name": "Python 3 (ipykernel)",
   "language": "python",
   "name": "python3"
  },
  "language_info": {
   "codemirror_mode": {
    "name": "ipython",
    "version": 3
   },
   "file_extension": ".py",
   "mimetype": "text/x-python",
   "name": "python",
   "nbconvert_exporter": "python",
   "pygments_lexer": "ipython3",
   "version": "3.12.8"
  }
 },
 "nbformat": 4,
 "nbformat_minor": 5
}
