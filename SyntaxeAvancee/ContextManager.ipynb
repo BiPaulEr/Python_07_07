{
 "cells": [
  {
   "cell_type": "code",
   "execution_count": 8,
   "id": "a63cdb02-45ea-4047-9a9d-2ed6c25c2580",
   "metadata": {},
   "outputs": [
    {
     "name": "stdout",
     "output_type": "stream",
     "text": [
      "Line 1\n",
      "Line 2\n",
      "Line 3\n",
      "END\n"
     ]
    }
   ],
   "source": [
    "file = open(\"fichier.txt\")\n",
    "try:\n",
    "    for line in file:\n",
    "        print(line.strip())\n",
    "except Exection as e:\n",
    "    print(f\"{e}\")\n",
    "finally:\n",
    "    file.close()"
   ]
  },
  {
   "cell_type": "code",
   "execution_count": 9,
   "id": "40b9f9a5-66d4-4ce2-9a17-0485a9c870ce",
   "metadata": {},
   "outputs": [
    {
     "name": "stdout",
     "output_type": "stream",
     "text": [
      "Line 1\n",
      "Line 2\n",
      "Line 3\n",
      "END\n"
     ]
    }
   ],
   "source": [
    "with open(\"fichier.txt\") as file:\n",
    "    for line in file:\n",
    "        print(line.strip()) "
   ]
  },
  {
   "cell_type": "code",
   "execution_count": 19,
   "id": "3fa82d4f-7af1-48cb-9ca9-15c1847421a4",
   "metadata": {},
   "outputs": [
    {
     "name": "stdout",
     "output_type": "stream",
     "text": [
      "Mise en place dans le contexte\n",
      "TEST OBJECT utilisable dans le contexte\n",
      "Je suis dans le contexte\n",
      "Bien PAsse\n",
      "Nettoyage du contexte Zebre 12\n",
      "Hello\n"
     ]
    }
   ],
   "source": [
    "class ContextManager():\n",
    "    def __init__(self, message):\n",
    "        self.msg = message\n",
    "        \n",
    "    def __enter__(self):\n",
    "        print(\"Mise en place dans le contexte\")\n",
    "        return \"TEST OBJECT utilisable dans le contexte\"\n",
    "        \n",
    "    def __exit__(self, exc_type, exc_instance, traceback):\n",
    "        if exc_type:\n",
    "            print(\"Exception detected\")\n",
    "            print(f\"{exc_type} {exc_instance}\")\n",
    "        else:\n",
    "            print(\"Bien PAsse\")\n",
    "        print(\"Nettoyage du contexte \"  + self.msg)\n",
    "        return False\n",
    "\n",
    "context = ContextManager(\"Zebre 12\")\n",
    "\n",
    "with context as obj:\n",
    "    print(obj)\n",
    "    print(\"Je suis dans le contexte\")\n",
    "    #raise Exception(\"Exception test\")\n",
    "print(\"Hello\")   \n"
   ]
  },
  {
   "cell_type": "code",
   "execution_count": 20,
   "id": "79daece3-9179-4f00-9829-47c0d3cbf311",
   "metadata": {},
   "outputs": [
    {
     "name": "stdout",
     "output_type": "stream",
     "text": [
      "Mise en place dans le contexte\n",
      "TEST OBJECT utilisable dans le contexte\n",
      "Je suis dans le contexte\n",
      "Bien PAsse\n",
      "Nettoyage du contexte Zebre 12\n",
      "Hello\n"
     ]
    }
   ],
   "source": [
    "from contextlib import contextmanager\n",
    "\n",
    "@contextmanager\n",
    "def contextmanagerfunction(msg):\n",
    "    print(\"Mise en place dans le contexte\")\n",
    "    try:\n",
    "        yield \"TEST OBJECT utilisable dans le contexte\"\n",
    "    except Execption as exc_instance:\n",
    "        print(\"Exception detected\")\n",
    "        print(f\"{exc_type} {exc_instance}\")\n",
    "    else:\n",
    "        print(\"Bien PAsse\")\n",
    "    finally:\n",
    "        print(\"Nettoyage du contexte \" + msg)\n",
    "\n",
    "with contextmanagerfunction(\"Zebre 12\") as obj:\n",
    "    print(obj)\n",
    "    print(\"Je suis dans le contexte\")\n",
    "print(\"Hello\")   "
   ]
  },
  {
   "cell_type": "code",
   "execution_count": 29,
   "id": "ca26ebb5-56bc-4fb0-84af-2b4268276ea7",
   "metadata": {},
   "outputs": [],
   "source": [
    "from contextlib import suppress\n",
    "with suppress(FileNotFoundError):\n",
    "    with open(\"fichier_inconnu.txt\") as file:\n",
    "        for line in file:\n",
    "            print(line.strip()) "
   ]
  },
  {
   "cell_type": "code",
   "execution_count": 32,
   "id": "a9c5332a-0a7a-4a18-8fb1-8345b239e59f",
   "metadata": {},
   "outputs": [],
   "source": [
    "from contextlib import suppress\n",
    "\n",
    "with suppress(FileNotFoundError), open(\"fichier_inconnu.txt\", \"r\") as file, open(\"fichier_inconnu2.txt\", \"w\") as file2:\n",
    "    for line in file:\n",
    "        print(line.strip()) "
   ]
  },
  {
   "cell_type": "code",
   "execution_count": 38,
   "id": "d5502790-109e-4da3-a774-f89412eb7f67",
   "metadata": {},
   "outputs": [
    {
     "name": "stdout",
     "output_type": "stream",
     "text": [
      "Transaction débutée\n",
      "Data\n",
      "Transaction validée (commit)\n"
     ]
    }
   ],
   "source": [
    "#Exercice 1\n",
    "class FakeDB:\n",
    "    def begin(self):\n",
    "        print(\"Transaction débutée\")\n",
    "        \n",
    "    def send(self):\n",
    "        print(\"Data\")\n",
    "\n",
    "    def commit(self):\n",
    "        print(\"Transaction validée (commit)\")\n",
    "\n",
    "    def rollback(self):\n",
    "        print(\"Transaction annulée (rollback)\")\n",
    "\n",
    "class TransactionContextManager:\n",
    "    def __enter__(self):\n",
    "        self.db = FakeDB()\n",
    "        self.db.begin()\n",
    "        return self.db\n",
    "    def __exit__(self, exc_type, exc_instance, tracback):\n",
    "        if exc_type:\n",
    "            self.db.rollback()\n",
    "        else:\n",
    "            self.db.commit()\n",
    "        return True\n",
    "\n",
    "with TransactionContextManager() as db:\n",
    "    db.send()\n",
    "    #raise Exception()\n",
    "\n",
    "\n",
    "    "
   ]
  },
  {
   "cell_type": "code",
   "execution_count": 43,
   "id": "ae35f348-3012-4878-974b-122f91bf7694",
   "metadata": {},
   "outputs": [
    {
     "name": "stdout",
     "output_type": "stream",
     "text": [
      "I went to the doctor today and he told me I had type A blood but it was a type O.\n"
     ]
    }
   ],
   "source": [
    "import requests\n",
    "\n",
    "session = requests.Session()\n",
    "header = {\"Accept\" : \"text/plain\"}\n",
    "url = 'https://icanhazdadjoke.com/'\n",
    "response = session.get(url, headers=header)\n",
    "if response.status_code == 200:\n",
    "    print(response.text)\n",
    "session.close()"
   ]
  },
  {
   "cell_type": "code",
   "execution_count": 45,
   "id": "14d80acb-5234-41d3-8edd-d6d1d3552908",
   "metadata": {},
   "outputs": [
    {
     "name": "stdout",
     "output_type": "stream",
     "text": [
      "I asked the surgeon if I could administer my own anesthetic, they said: go ahead, knock yourself out.\n"
     ]
    }
   ],
   "source": [
    "class HttpSession():\n",
    "    def __enter__(self):\n",
    "        self.session = requests.Session()\n",
    "        return session\n",
    "    def __exit__(self, exc_type, exc_instance, tracback):\n",
    "        session.close()\n",
    "        return True\n",
    "\n",
    "with HttpSession() as session:\n",
    "    header = {\"Accept\" : \"text/plain\"}\n",
    "    url = 'https://icanhazdadjoke.com/'\n",
    "    response = session.get(url, headers=header)\n",
    "    if response.status_code == 200:\n",
    "        print(response.text)"
   ]
  },
  {
   "cell_type": "code",
   "execution_count": null,
   "id": "4ad99c4f-7bbb-4310-8800-9464f2dee77d",
   "metadata": {},
   "outputs": [],
   "source": []
  }
 ],
 "metadata": {
  "kernelspec": {
   "display_name": "Python 3 (ipykernel)",
   "language": "python",
   "name": "python3"
  },
  "language_info": {
   "codemirror_mode": {
    "name": "ipython",
    "version": 3
   },
   "file_extension": ".py",
   "mimetype": "text/x-python",
   "name": "python",
   "nbconvert_exporter": "python",
   "pygments_lexer": "ipython3",
   "version": "3.12.8"
  }
 },
 "nbformat": 4,
 "nbformat_minor": 5
}
