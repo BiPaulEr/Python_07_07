{
 "cells": [
  {
   "cell_type": "code",
   "execution_count": 39,
   "id": "18100bac-9851-4339-a9c8-c0f489e4bb67",
   "metadata": {},
   "outputs": [
    {
     "name": "stdout",
     "output_type": "stream",
     "text": [
      "Je suis nouveau\n",
      "Je suis dans la fonction\n",
      "Je suis nouveau fin\n",
      "Je suis nouveau\n",
      "Bonjour, j'ai 99\n",
      "Je suis nouveau fin\n"
     ]
    }
   ],
   "source": [
    "def decorator(function):\n",
    "    def wrapper(*args, **kwargs):\n",
    "        print(\"Je suis nouveau\")\n",
    "        function(*args, **kwargs)\n",
    "        print(\"Je suis nouveau fin\")\n",
    "    return wrapper\n",
    "\n",
    "@decorator\n",
    "def simple_function():\n",
    "    print(\"Je suis dans la fonction\")\n",
    "    \n",
    "@decorator\n",
    "def simple_function_version_2():\n",
    "    print(\"Je suis dans la fonction version 2\")\n",
    "    \n",
    "@decorator    \n",
    "def simple_function_avec_arg(prenom):\n",
    "    print(f\"Bonjour, {prenom}\") \n",
    "    \n",
    "@decorator    \n",
    "def simple_function_avec_kwarg(age = 1):\n",
    "    print(f\"Bonjour, j'ai {age}\") \n",
    "    \n",
    "simple_function()\n",
    "simple_function_avec_kwarg(age = 99)"
   ]
  },
  {
   "cell_type": "code",
   "execution_count": 27,
   "id": "fe1d7256-afd5-4656-87df-2092108f2b82",
   "metadata": {},
   "outputs": [
    {
     "name": "stdout",
     "output_type": "stream",
     "text": [
      "Je suis nouveau\n",
      "Je suis dans la fonction\n",
      "Je suis nouveau fin\n"
     ]
    }
   ],
   "source": [
    "#simple_function = decorator(simple_function) # equivalent @decorator\n",
    "simple_function()"
   ]
  },
  {
   "cell_type": "code",
   "execution_count": 28,
   "id": "8ca92c65-71c2-4753-8f7a-3d8784b46cef",
   "metadata": {},
   "outputs": [
    {
     "name": "stdout",
     "output_type": "stream",
     "text": [
      "Je suis nouveau\n",
      "Je suis dans la fonction version 2\n",
      "Je suis nouveau fin\n"
     ]
    }
   ],
   "source": [
    "simple_function_version_2()"
   ]
  },
  {
   "cell_type": "code",
   "execution_count": 29,
   "id": "73c72d7a-b86c-4ace-88f3-79ef3a509a43",
   "metadata": {},
   "outputs": [
    {
     "name": "stdout",
     "output_type": "stream",
     "text": [
      "Je suis nouveau\n",
      "Bonjour, Paul\n",
      "Je suis nouveau fin\n"
     ]
    }
   ],
   "source": [
    "simple_function_avec_arg(\"Paul\")"
   ]
  },
  {
   "cell_type": "code",
   "execution_count": 23,
   "id": "4c094268-31b2-4b41-93b5-9698f03ba198",
   "metadata": {},
   "outputs": [
    {
     "name": "stdout",
     "output_type": "stream",
     "text": [
      "1 2 ()\n"
     ]
    }
   ],
   "source": [
    "def function(arg1, arg2, *args):\n",
    "    print(arg1, arg2, args)\n",
    "function(\"1\", \"2\")"
   ]
  },
  {
   "cell_type": "code",
   "execution_count": 37,
   "id": "207d8ca8-93af-4042-92f7-b8a43bd8a4a9",
   "metadata": {},
   "outputs": [
    {
     "name": "stdout",
     "output_type": "stream",
     "text": [
      "1 OK Bonjour 10 {'arg10': 'Hello', 'arg11': 'AUSSI'}\n"
     ]
    }
   ],
   "source": [
    "def function(arg1, arg2 = 'OK', arg3 = 'Bonjour', arg5 = 5, **kwargs):\n",
    "    print(arg1, arg2, arg3, arg5, kwargs)\n",
    "function(1, arg5 = 10, arg10 = 'Hello', arg11 = \"AUSSI\")"
   ]
  },
  {
   "cell_type": "code",
   "execution_count": 53,
   "id": "84cbbc69-fe0e-4bfa-a847-e3c811bf8d3e",
   "metadata": {},
   "outputs": [],
   "source": [
    "def cache(function):\n",
    "    dictionnaire = {}\n",
    "    def wrapper(*args):\n",
    "        if args in dictionnaire:\n",
    "            print(\"CACHED\")\n",
    "            return dictionnaire[args]\n",
    "        else:\n",
    "            result = function(*args)\n",
    "            print(\"UPTADE DICT\")\n",
    "            dictionnaire[args] = result\n",
    "            return result\n",
    "    return wrapper\n",
    "\n",
    "\n",
    "    "
   ]
  },
  {
   "cell_type": "code",
   "execution_count": 54,
   "id": "b580988d-d65e-4d49-8e44-bd1dd5992502",
   "metadata": {},
   "outputs": [
    {
     "name": "stdout",
     "output_type": "stream",
     "text": [
      "function_couteuse finished - 3 , 5\n",
      "UPTADE DICT\n",
      "function_couteuse finished - 6 , 5\n",
      "UPTADE DICT\n",
      "function_couteuse finished - 7 , 5\n",
      "UPTADE DICT\n",
      "CACHED\n",
      "CACHED\n",
      "9.002122402191162\n"
     ]
    }
   ],
   "source": [
    "import time\n",
    "\n",
    "now = time.time()\n",
    "\n",
    "@cache\n",
    "def function_couteuse(a, b):\n",
    "    time.sleep(3)\n",
    "    print(f\"function_couteuse finished - {a} , {b}\")\n",
    "    return a + b\n",
    "    \n",
    "function_couteuse(3, 5)\n",
    "function_couteuse(6, 5)\n",
    "function_couteuse(7, 5)\n",
    "function_couteuse(6, 5)\n",
    "function_couteuse(3, 5)\n",
    "end = time.time()\n",
    "print(end - now)"
   ]
  },
  {
   "cell_type": "code",
   "execution_count": 61,
   "id": "c9fffe8d-763e-4eca-a556-26e2486d3889",
   "metadata": {},
   "outputs": [
    {
     "name": "stdout",
     "output_type": "stream",
     "text": [
      "10\n",
      "10\n",
      "10\n",
      "10\n",
      "10\n",
      "10\n",
      "10\n",
      "10\n",
      "10\n",
      "10\n",
      "3\n",
      "3\n",
      "3\n"
     ]
    }
   ],
   "source": [
    "def repeat(nombre_repetition):\n",
    "    def repeat_int(function):\n",
    "        def wrapper(*args):\n",
    "            for i in range(0, nombre_repetition):\n",
    "                function(*args)\n",
    "        return wrapper\n",
    "    return repeat_int\n",
    "\n",
    "@repeat(10)\n",
    "def test(a):\n",
    "    print(a)\n",
    "  \n",
    "@repeat(3)\n",
    "def test2(a):\n",
    "    print(a)\n",
    "    \n",
    "test(\"10\")\n",
    "    \n",
    "test2(\"3\")"
   ]
  },
  {
   "cell_type": "code",
   "execution_count": 73,
   "id": "76aaa5cd-cf06-45ae-a7e1-e3f551a374b3",
   "metadata": {},
   "outputs": [
    {
     "name": "stdout",
     "output_type": "stream",
     "text": [
      "Cest tres bien : fetch_data : 2 seconds\n"
     ]
    },
    {
     "data": {
      "text/plain": [
       "'Data'"
      ]
     },
     "execution_count": 73,
     "metadata": {},
     "output_type": "execute_result"
    }
   ],
   "source": [
    "def time_execution(message):\n",
    "    def time_execution_inter(fucntion):\n",
    "        def wrapper(*args, **kwargs):\n",
    "            begin = time.time()\n",
    "            result = fucntion(*args, **kwargs)\n",
    "            end = time.time()\n",
    "            print(f\"{message} : {fucntion.__name__} : {int(end - begin)} seconds\")\n",
    "            return result\n",
    "        return wrapper\n",
    "    return time_execution_inter\n",
    "\n",
    "@time_execution(\"Cest tres bien\")\n",
    "def fetch_data():\n",
    "    time.sleep(2)  # Simule une opération prenant du temps\n",
    "    return \"Data\"\n",
    "\n",
    "fetch_data()"
   ]
  },
  {
   "cell_type": "code",
   "execution_count": 107,
   "id": "13623953-76ac-4ea4-b896-adeff64fa1e3",
   "metadata": {},
   "outputs": [
    {
     "ename": "TypeError",
     "evalue": " Type not good <class 'int'> is required, 0.4 is <class 'float'>",
     "output_type": "error",
     "traceback": [
      "\u001b[31m---------------------------------------------------------------------------\u001b[39m",
      "\u001b[31mTypeError\u001b[39m                                 Traceback (most recent call last)",
      "\u001b[36mCell\u001b[39m\u001b[36m \u001b[39m\u001b[32mIn[107]\u001b[39m\u001b[32m, line 16\u001b[39m\n\u001b[32m     13\u001b[39m \u001b[38;5;129m@validate_types\u001b[39m(types=[\u001b[38;5;28mint\u001b[39m, \u001b[38;5;28mstr\u001b[39m])\n\u001b[32m     14\u001b[39m \u001b[38;5;28;01mdef\u001b[39;00m\u001b[38;5;250m \u001b[39m\u001b[34mprocess_data\u001b[39m(identifiant, name):\n\u001b[32m     15\u001b[39m     \u001b[38;5;28mprint\u001b[39m(\u001b[33mf\u001b[39m\u001b[33m\"\u001b[39m\u001b[33mProcessing \u001b[39m\u001b[38;5;132;01m{\u001b[39;00midentifiant\u001b[38;5;132;01m}\u001b[39;00m\u001b[33m: \u001b[39m\u001b[38;5;132;01m{\u001b[39;00mname\u001b[38;5;132;01m}\u001b[39;00m\u001b[33m\"\u001b[39m)\n\u001b[32m---> \u001b[39m\u001b[32m16\u001b[39m \u001b[43mprocess_data\u001b[49m\u001b[43m(\u001b[49m\u001b[32;43m.4\u001b[39;49m\u001b[43m,\u001b[49m\u001b[43m \u001b[49m\u001b[33;43m\"\u001b[39;49m\u001b[33;43mOK\u001b[39;49m\u001b[33;43m\"\u001b[39;49m\u001b[43m)\u001b[49m\n",
      "\u001b[36mCell\u001b[39m\u001b[36m \u001b[39m\u001b[32mIn[107]\u001b[39m\u001b[32m, line 8\u001b[39m, in \u001b[36mvalidate_types.<locals>.validate_types_inter.<locals>.wrapper\u001b[39m\u001b[34m(*args)\u001b[39m\n\u001b[32m      6\u001b[39m \u001b[38;5;28;01mfor\u001b[39;00m type_fct, arg_fct \u001b[38;5;129;01min\u001b[39;00m \u001b[38;5;28mzip\u001b[39m(types, args):\n\u001b[32m      7\u001b[39m     \u001b[38;5;28;01mif\u001b[39;00m \u001b[38;5;129;01mnot\u001b[39;00m \u001b[38;5;28misinstance\u001b[39m(arg_fct, type_fct):\n\u001b[32m----> \u001b[39m\u001b[32m8\u001b[39m         \u001b[38;5;28;01mraise\u001b[39;00m \u001b[38;5;167;01mTypeError\u001b[39;00m(\u001b[33mf\u001b[39m\u001b[33m\"\u001b[39m\u001b[33m Type not good \u001b[39m\u001b[38;5;132;01m{\u001b[39;00mtype_fct\u001b[38;5;132;01m}\u001b[39;00m\u001b[33m is required, \u001b[39m\u001b[38;5;132;01m{\u001b[39;00marg_fct\u001b[38;5;132;01m}\u001b[39;00m\u001b[33m is \u001b[39m\u001b[38;5;132;01m{\u001b[39;00m\u001b[38;5;28mtype\u001b[39m(arg_fct)\u001b[38;5;132;01m}\u001b[39;00m\u001b[33m\"\u001b[39m)     \n\u001b[32m      9\u001b[39m \u001b[38;5;28;01mreturn\u001b[39;00m function(*args)\n",
      "\u001b[31mTypeError\u001b[39m:  Type not good <class 'int'> is required, 0.4 is <class 'float'>"
     ]
    }
   ],
   "source": [
    "def validate_types(types=[int, str]):\n",
    "    def validate_types_inter(function):\n",
    "        def wrapper(*args):\n",
    "            if len(args) != len(types):\n",
    "                raise ValueError(f\"Positional arguments don't match {len(args)} != {len(types)}\")\n",
    "            for type_fct, arg_fct in zip(types, args):\n",
    "                if not isinstance(arg_fct, type_fct):\n",
    "                    raise TypeError(f\" Type not good {type_fct} is required, {arg_fct} is {type(arg_fct)}\")     \n",
    "            return function(*args)\n",
    "        return wrapper\n",
    "    return validate_types_inter\n",
    "\n",
    "@validate_types(types=[int, str])\n",
    "def process_data(identifiant, name):\n",
    "    print(f\"Processing {identifiant}: {name}\")\n",
    "process_data(.4, \"OK\")"
   ]
  },
  {
   "cell_type": "code",
   "execution_count": 92,
   "id": "0d2ba0c8-486a-4f01-a550-735a720b8da7",
   "metadata": {},
   "outputs": [
    {
     "name": "stdout",
     "output_type": "stream",
     "text": [
      "[(0, ('A', '1', 'Z')), (1, ('B', '2', 'Y')), (2, ('C', '3', 'O'))]\n",
      "0 A 1 Z\n",
      "1 B 2 Y\n",
      "2 C 3 O\n"
     ]
    }
   ],
   "source": [
    "liste = [\"A\", \"B\", \"C\"]\n",
    "liste1 = [\"1\", \"2\", \"3\", \"2\"]\n",
    "liste2 = [\"Z\", \"Y\", \"O\", \"I\"]\n",
    "print(list(enumerate(zip(liste, liste1, liste2))))\n",
    "for index, variable in enumerate(zip(liste, liste1, liste2)):\n",
    "    print(index, variable[0], variable[1], variable[2])"
   ]
  },
  {
   "cell_type": "code",
   "execution_count": null,
   "id": "7b424279-df8d-4018-8d48-2b37460d33b1",
   "metadata": {},
   "outputs": [],
   "source": []
  }
 ],
 "metadata": {
  "kernelspec": {
   "display_name": "Python 3 (ipykernel)",
   "language": "python",
   "name": "python3"
  },
  "language_info": {
   "codemirror_mode": {
    "name": "ipython",
    "version": 3
   },
   "file_extension": ".py",
   "mimetype": "text/x-python",
   "name": "python",
   "nbconvert_exporter": "python",
   "pygments_lexer": "ipython3",
   "version": "3.12.8"
  }
 },
 "nbformat": 4,
 "nbformat_minor": 5
}
