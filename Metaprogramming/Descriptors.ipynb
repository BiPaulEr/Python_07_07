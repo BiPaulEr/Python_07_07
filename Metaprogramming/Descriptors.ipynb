{
 "cells": [
  {
   "cell_type": "code",
   "execution_count": 2,
   "id": "b77f487f-4282-4351-b9ba-2640fbcd92ce",
   "metadata": {},
   "outputs": [
    {
     "name": "stdout",
     "output_type": "stream",
     "text": [
      "{'__module__': '__main__', 'x': 5, '__dict__': <attribute '__dict__' of 'MyClass' objects>, '__weakref__': <attribute '__weakref__' of 'MyClass' objects>, '__doc__': None}\n"
     ]
    }
   ],
   "source": [
    "class MyClass():\n",
    "    x = 5\n",
    "\n",
    "print(MyClass.__dict__)"
   ]
  },
  {
   "cell_type": "code",
   "execution_count": 3,
   "id": "a61a112a-c9bf-4760-af77-12f1347fb250",
   "metadata": {},
   "outputs": [
    {
     "name": "stdout",
     "output_type": "stream",
     "text": [
      "{}\n"
     ]
    }
   ],
   "source": [
    "myclass = MyClass()\n",
    "print(myclass.__dict__)"
   ]
  },
  {
   "cell_type": "code",
   "execution_count": 4,
   "id": "e9b1be83-c612-4650-bec5-4ef0a308c743",
   "metadata": {},
   "outputs": [],
   "source": [
    "myclass.x = 8"
   ]
  },
  {
   "cell_type": "code",
   "execution_count": 5,
   "id": "6433366b-8eae-44a0-bfc4-e7f21d623ee2",
   "metadata": {},
   "outputs": [
    {
     "name": "stdout",
     "output_type": "stream",
     "text": [
      "{'x': 8}\n"
     ]
    }
   ],
   "source": [
    "print(myclass.__dict__)"
   ]
  },
  {
   "cell_type": "code",
   "execution_count": 6,
   "id": "fb14bb0a-fc33-4d61-8a0c-b33381aa30c9",
   "metadata": {},
   "outputs": [
    {
     "name": "stdout",
     "output_type": "stream",
     "text": [
      "8\n"
     ]
    }
   ],
   "source": [
    "print(myclass.x)"
   ]
  },
  {
   "cell_type": "code",
   "execution_count": 7,
   "id": "9fcc8cda-e3a5-47f4-ab7f-d3b86edceda1",
   "metadata": {},
   "outputs": [
    {
     "name": "stdout",
     "output_type": "stream",
     "text": [
      "5\n"
     ]
    }
   ],
   "source": [
    "myclass2 = MyClass()\n",
    "print(myclass2.x)"
   ]
  },
  {
   "cell_type": "code",
   "execution_count": 12,
   "id": "4e6b1396-124e-4fae-9b6a-bc6b8b69fce8",
   "metadata": {},
   "outputs": [],
   "source": [
    "class RevealAccess:\n",
    "    def __init__(self, initval = 0, name=\"variable\"):\n",
    "        self.val = initval\n",
    "        self.name = name\n",
    "        \n",
    "    def __get__(self, obj, objtype):\n",
    "        print(f\"Accessing for {obj}\")\n",
    "        return self.val\n",
    "        \n",
    "    def __set__(self, obj, val):\n",
    "        print(f\"Setting {val} to {self.val} for {obj}\")\n",
    "        self.val = val\n",
    "\n",
    "class MyClass:\n",
    "    x = RevealAccess(60, \"test\")\n",
    "    y = 5"
   ]
  },
  {
   "cell_type": "code",
   "execution_count": 13,
   "id": "4ea159f6-5aeb-4df7-b021-9f973f82c9dd",
   "metadata": {},
   "outputs": [],
   "source": [
    "myclass = MyClass()\n"
   ]
  },
  {
   "cell_type": "code",
   "execution_count": 15,
   "id": "9db38fac-a03c-44d6-952b-58131be572ec",
   "metadata": {},
   "outputs": [
    {
     "name": "stdout",
     "output_type": "stream",
     "text": [
      "Setting 8 to 60 for <__main__.MyClass object at 0x000001516E273FB0>\n"
     ]
    }
   ],
   "source": [
    "myclass.x = 8"
   ]
  },
  {
   "cell_type": "code",
   "execution_count": 16,
   "id": "6887ae0d-f84a-4043-986a-18b039a68a03",
   "metadata": {},
   "outputs": [
    {
     "name": "stdout",
     "output_type": "stream",
     "text": [
      "Accessing for <__main__.MyClass object at 0x000001516E273FB0>\n"
     ]
    },
    {
     "data": {
      "text/plain": [
       "8"
      ]
     },
     "execution_count": 16,
     "metadata": {},
     "output_type": "execute_result"
    }
   ],
   "source": [
    "myclass.x"
   ]
  },
  {
   "cell_type": "code",
   "execution_count": 17,
   "id": "cf683499-b16a-4a12-a3af-f45e19867985",
   "metadata": {},
   "outputs": [
    {
     "name": "stdout",
     "output_type": "stream",
     "text": [
      "{}\n"
     ]
    }
   ],
   "source": [
    "print(myclass.__dict__)"
   ]
  },
  {
   "cell_type": "code",
   "execution_count": 20,
   "id": "255bf676-4e40-4e6a-8e09-3a045a4cc7bf",
   "metadata": {},
   "outputs": [
    {
     "name": "stdout",
     "output_type": "stream",
     "text": [
      "{'y': 6}\n"
     ]
    }
   ],
   "source": [
    "myclass.y = 6\n",
    "print(myclass.__dict__)"
   ]
  },
  {
   "cell_type": "code",
   "execution_count": 23,
   "id": "24a82f17-d77c-4ad1-a91f-3e4031aca199",
   "metadata": {},
   "outputs": [
    {
     "name": "stdout",
     "output_type": "stream",
     "text": [
      "Setting 8 to 5 for <__main__.MyClass object at 0x000001516E2C3DD0>\n",
      "Accessing for <__main__.MyClass object at 0x000001516E2C3DD0>\n",
      "8\n"
     ]
    }
   ],
   "source": [
    "class IntegerPositif:\n",
    "    def __init__(self, initval = 1):\n",
    "        self.val = initval\n",
    "        \n",
    "    def __get__(self, obj, objtype):\n",
    "        print(f\"Accessing for {obj}\")\n",
    "        return self.val\n",
    "        \n",
    "    def __set__(self, obj, val):\n",
    "        print(f\"Setting {val} to {self.val} for {obj}\")\n",
    "        if val > 0:\n",
    "            self.val = val\n",
    "\n",
    "class MyClass:\n",
    "    x = RevealAccess(60, \"test\")\n",
    "    y = IntegerPositif(5)\n",
    "\n",
    "myclass = MyClass()\n",
    "myclass.y = 8\n",
    "print(myclass.y)"
   ]
  },
  {
   "cell_type": "code",
   "execution_count": 24,
   "id": "d57a5132-955c-4e16-8817-87a980fe6274",
   "metadata": {},
   "outputs": [
    {
     "name": "stdout",
     "output_type": "stream",
     "text": [
      "Setting 12 to 8 for <__main__.MyClass object at 0x000001516E2C3DD0>\n",
      "Accessing for <__main__.MyClass object at 0x000001516E2C3DD0>\n",
      "12\n"
     ]
    }
   ],
   "source": [
    "myclass.y = 12\n",
    "print(myclass.y)"
   ]
  },
  {
   "cell_type": "code",
   "execution_count": 26,
   "id": "339824c5-ab37-42f4-96a1-427e767d1587",
   "metadata": {},
   "outputs": [
    {
     "name": "stdout",
     "output_type": "stream",
     "text": [
      "Setting -2 to 12 for <__main__.MyClass object at 0x000001516E2C3DD0>\n"
     ]
    }
   ],
   "source": [
    "myclass.y = -2"
   ]
  },
  {
   "cell_type": "code",
   "execution_count": 27,
   "id": "24e87939-31c4-40e6-91e4-32bcc9350ed0",
   "metadata": {},
   "outputs": [
    {
     "name": "stdout",
     "output_type": "stream",
     "text": [
      "Accessing for <__main__.MyClass object at 0x000001516E2C3DD0>\n",
      "12\n"
     ]
    }
   ],
   "source": [
    "print(myclass.y)"
   ]
  },
  {
   "cell_type": "code",
   "execution_count": 31,
   "id": "be2a4406-0df4-48aa-b940-bb141c680cfc",
   "metadata": {},
   "outputs": [
    {
     "name": "stdout",
     "output_type": "stream",
     "text": [
      "Accessing for <__main__.MyClass object at 0x000001516CCF8200>\n",
      "5\n"
     ]
    }
   ],
   "source": [
    "class ReadOnly:\n",
    "    def __init__(self, initval = 1):\n",
    "        self.val = initval\n",
    "        \n",
    "    def __get__(self, obj, objtype):\n",
    "        print(f\"Accessing for {obj}\")\n",
    "        return self.val\n",
    "        \n",
    "    def __set__(self, obj, val):\n",
    "        raise Exception(\"QUOI\")\n",
    "\n",
    "class MyClass:\n",
    "    y = ReadOnly(5)\n",
    "\n",
    "myclass = MyClass()\n",
    "\n",
    "print(myclass.y)"
   ]
  },
  {
   "cell_type": "code",
   "execution_count": 32,
   "id": "f4d0d7f8-93d7-459b-8d88-7aa21b4c25fe",
   "metadata": {},
   "outputs": [
    {
     "ename": "Exception",
     "evalue": "QUOI",
     "output_type": "error",
     "traceback": [
      "\u001b[31m---------------------------------------------------------------------------\u001b[39m",
      "\u001b[31mException\u001b[39m                                 Traceback (most recent call last)",
      "\u001b[36mCell\u001b[39m\u001b[36m \u001b[39m\u001b[32mIn[32]\u001b[39m\u001b[32m, line 1\u001b[39m\n\u001b[32m----> \u001b[39m\u001b[32m1\u001b[39m \u001b[43mmyclass\u001b[49m\u001b[43m.\u001b[49m\u001b[43my\u001b[49m = \u001b[32m3\u001b[39m\n",
      "\u001b[36mCell\u001b[39m\u001b[36m \u001b[39m\u001b[32mIn[31]\u001b[39m\u001b[32m, line 10\u001b[39m, in \u001b[36mReadOnly.__set__\u001b[39m\u001b[34m(self, obj, val)\u001b[39m\n\u001b[32m      9\u001b[39m \u001b[38;5;28;01mdef\u001b[39;00m\u001b[38;5;250m \u001b[39m\u001b[34m__set__\u001b[39m(\u001b[38;5;28mself\u001b[39m, obj, val):\n\u001b[32m---> \u001b[39m\u001b[32m10\u001b[39m     \u001b[38;5;28;01mraise\u001b[39;00m \u001b[38;5;167;01mException\u001b[39;00m(\u001b[33m\"\u001b[39m\u001b[33mQUOI\u001b[39m\u001b[33m\"\u001b[39m)\n",
      "\u001b[31mException\u001b[39m: QUOI"
     ]
    }
   ],
   "source": [
    "myclass.y = 3"
   ]
  },
  {
   "cell_type": "code",
   "execution_count": 41,
   "id": "2001b094-cd2e-4c53-8cb8-a68c3eb5658a",
   "metadata": {},
   "outputs": [
    {
     "name": "stdout",
     "output_type": "stream",
     "text": [
      "Set self.val for <__main__.MyClass object at 0x000001516E1731A0>\n",
      "12\n"
     ]
    }
   ],
   "source": [
    "import time \n",
    "class LazyProperty:\n",
    "    def __init__(self, function ):\n",
    "        self.function = function\n",
    "        self.val = None\n",
    "        \n",
    "    def __get__(self, obj, objtype):\n",
    "        if not self.val:\n",
    "            print(f\"Set self.val for {obj}\")\n",
    "            self.val = self.function()\n",
    "        return self.val\n",
    "        \n",
    "    #def __set__(self, obj, val):\n",
    "       # self.val = val\n",
    "\n",
    "def function_lente():\n",
    "    time.sleep(10)\n",
    "    return 12\n",
    "class MyClass:\n",
    "    y = LazyProperty(function_lente)\n",
    "\n",
    "myclass = MyClass()\n",
    "\n",
    "print(myclass.y)"
   ]
  },
  {
   "cell_type": "code",
   "execution_count": 43,
   "id": "2aaced30-d7ee-4ff6-8a43-ec162096c07e",
   "metadata": {},
   "outputs": [],
   "source": [
    "myclass.y = 56"
   ]
  },
  {
   "cell_type": "code",
   "execution_count": 44,
   "id": "987ca262-1e8f-444b-86c6-289e7ed63258",
   "metadata": {},
   "outputs": [
    {
     "data": {
      "text/plain": [
       "56"
      ]
     },
     "execution_count": 44,
     "metadata": {},
     "output_type": "execute_result"
    }
   ],
   "source": [
    "myclass.y"
   ]
  },
  {
   "cell_type": "code",
   "execution_count": 45,
   "id": "dde7fc87-dc55-4fc0-83d6-8cade8f04f7c",
   "metadata": {},
   "outputs": [
    {
     "data": {
      "text/plain": [
       "{'y': 56}"
      ]
     },
     "execution_count": 45,
     "metadata": {},
     "output_type": "execute_result"
    }
   ],
   "source": [
    "myclass.__dict__"
   ]
  },
  {
   "cell_type": "code",
   "execution_count": 49,
   "id": "3a110fac-87a4-4ecf-99e1-9488c9294bd2",
   "metadata": {},
   "outputs": [
    {
     "name": "stdout",
     "output_type": "stream",
     "text": [
      "Bertand\n"
     ]
    }
   ],
   "source": [
    "class ReadOnly:\n",
    "    def __init__(self, name):\n",
    "        self.name = name\n",
    "        \n",
    "    def __get__(self, obj, objtype):\n",
    "        getattr(obj, \"name\")\n",
    "        return getattr(obj, self.name)\n",
    "        \n",
    "    def __set__(self, obj, val):\n",
    "        raise Exception(\"QUOI\")\n",
    "\n",
    "class Person:\n",
    "    name = ReadOnly(\"name_private\")\n",
    "    def __init__(self, nom):\n",
    "        self.name_private = nom\n",
    "        \n",
    "person = Person(\"Bertand\")\n",
    "print(person.name)"
   ]
  },
  {
   "cell_type": "code",
   "execution_count": 51,
   "id": "e29ae4eb-cf3a-4b4f-ba05-4662192f6719",
   "metadata": {},
   "outputs": [
    {
     "name": "stdout",
     "output_type": "stream",
     "text": [
      "Bertand\n"
     ]
    }
   ],
   "source": [
    "class Person:\n",
    "    @property\n",
    "    def name(self):\n",
    "        return self.name_private\n",
    "        \n",
    "    @name.setter\n",
    "    def name(self, valeur):\n",
    "        raise Exception(\"QUOI\")\n",
    "        \n",
    "    def __init__(self, nom):\n",
    "        self.name_private = nom\n",
    "        \n",
    "person = Person(\"Bertand\")\n",
    "print(person.name)"
   ]
  },
  {
   "cell_type": "code",
   "execution_count": null,
   "id": "569037c2-5ee2-49fc-9920-3a9a42467e92",
   "metadata": {},
   "outputs": [],
   "source": []
  }
 ],
 "metadata": {
  "kernelspec": {
   "display_name": "Python 3 (ipykernel)",
   "language": "python",
   "name": "python3"
  },
  "language_info": {
   "codemirror_mode": {
    "name": "ipython",
    "version": 3
   },
   "file_extension": ".py",
   "mimetype": "text/x-python",
   "name": "python",
   "nbconvert_exporter": "python",
   "pygments_lexer": "ipython3",
   "version": "3.12.8"
  }
 },
 "nbformat": 4,
 "nbformat_minor": 5
}
