{
 "cells": [
  {
   "cell_type": "code",
   "execution_count": 1,
   "id": "9e3a8c27-76f7-4733-b67f-212681cada87",
   "metadata": {},
   "outputs": [
    {
     "name": "stdout",
     "output_type": "stream",
     "text": [
      "Nouvelle méthode ajoutée\n"
     ]
    }
   ],
   "source": [
    "def mon_decorateur_de_classe(cls):\n",
    "    class ClasseEtendue(cls):\n",
    "        def nouvelle_methode(self):\n",
    "                return \"Nouvelle méthode ajoutée\"\n",
    "    return ClasseEtendue\n",
    "\n",
    "@mon_decorateur_de_classe\n",
    "class MaClasse:\n",
    "    pass\n",
    "\n",
    "obj = MaClasse()\n",
    "print(obj.nouvelle_methode())"
   ]
  },
  {
   "cell_type": "code",
   "execution_count": 7,
   "id": "3cc422fa-b6e3-48f1-a2b0-e5aa1d7d749a",
   "metadata": {},
   "outputs": [],
   "source": [
    "class InstanceCountingClass:\n",
    "    instances_created = 0\n",
    "   \n",
    "    def __new__(cls, *args, **kwargs):\n",
    "        print(\"__new__\")\n",
    "        print(cls)\n",
    "        print(args)\n",
    "        print(kwargs)\n",
    "        instance = super().__new__(cls)\n",
    "        print(instance)\n",
    "        cls.instances_created += 1\n",
    "        return instance\n",
    "\n",
    "    def __init__(self, attribute):\n",
    "        print('__init__()', self, attribute)\n",
    "        self.attribute = attribute"
   ]
  },
  {
   "cell_type": "code",
   "execution_count": 8,
   "id": "acd37283-d7e6-4202-896c-796b698ab929",
   "metadata": {},
   "outputs": [
    {
     "name": "stdout",
     "output_type": "stream",
     "text": [
      "__new__\n",
      "<class '__main__.InstanceCountingClass'>\n",
      "('A',)\n",
      "{}\n",
      "<__main__.InstanceCountingClass object at 0x00000149102D5370>\n",
      "__init__() <__main__.InstanceCountingClass object at 0x00000149102D5370> A\n"
     ]
    }
   ],
   "source": [
    "instance1 = InstanceCountingClass(\"A\")"
   ]
  },
  {
   "cell_type": "code",
   "execution_count": 9,
   "id": "e82f3ed5-1586-444d-b6aa-2b7b7f0c96e4",
   "metadata": {},
   "outputs": [
    {
     "name": "stdout",
     "output_type": "stream",
     "text": [
      "<__main__.Singleton object at 0x00000149102F17F0>\n",
      "<__main__.Singleton object at 0x00000149102F17F0>\n",
      "True\n"
     ]
    }
   ],
   "source": [
    "class Singleton:\n",
    "    _instance = None\n",
    "    def __new__(cls, *args, **kwargs):\n",
    "        if not cls._instance:\n",
    "            cls._instance = super().__new__(cls)\n",
    "        return cls._instance\n",
    "a = Singleton()\n",
    "b = Singleton()\n",
    "print(a)\n",
    "print(b)\n",
    "print(a == b) #True"
   ]
  },
  {
   "cell_type": "code",
   "execution_count": 10,
   "id": "da869307-9042-4d72-929b-227bf0ddd897",
   "metadata": {},
   "outputs": [
    {
     "name": "stdout",
     "output_type": "stream",
     "text": [
      "<class '__main__.Singleton'>\n"
     ]
    }
   ],
   "source": [
    "print(Singleton)"
   ]
  },
  {
   "cell_type": "code",
   "execution_count": 11,
   "id": "890c148d-3512-440c-8165-20ca38a17272",
   "metadata": {},
   "outputs": [
    {
     "name": "stdout",
     "output_type": "stream",
     "text": [
      "<class 'type'>\n"
     ]
    }
   ],
   "source": [
    "print(type(Singleton))"
   ]
  },
  {
   "cell_type": "code",
   "execution_count": 14,
   "id": "844698a4-bc08-4f5e-93d2-01d65cc3d2b5",
   "metadata": {},
   "outputs": [
    {
     "name": "stdout",
     "output_type": "stream",
     "text": [
      "<class '__main__.MyClass'>\n",
      "<class 'type'>\n",
      "32\n"
     ]
    }
   ],
   "source": [
    "class MyClass:\n",
    "    def methode(self):\n",
    "        return 32\n",
    "print(MyClass)\n",
    "print(type(MyClass))\n",
    "print(MyClass().methode())"
   ]
  },
  {
   "cell_type": "code",
   "execution_count": 17,
   "id": "f5fc959a-37cd-4a49-8a3b-4b88672babbc",
   "metadata": {},
   "outputs": [
    {
     "name": "stdout",
     "output_type": "stream",
     "text": [
      "<class '__main__.MyClass'>\n",
      "<class 'type'>\n",
      "32\n"
     ]
    }
   ],
   "source": [
    "MyClass = type(\"MyClass\", (object,), {\"methode\": lambda self : 32})\n",
    "print(MyClass)\n",
    "print(type(MyClass))\n",
    "print(MyClass().methode())"
   ]
  },
  {
   "cell_type": "code",
   "execution_count": 27,
   "id": "b8df19db-7633-488d-9b79-cb3018c37d56",
   "metadata": {},
   "outputs": [],
   "source": [
    "class Plugins(type):\n",
    "    plugins = []\n",
    "    @classmethod\n",
    "    def __prepare__(mcs, name, bases, **kwargs):\n",
    "        print(\"prepare\", mcs, name, bases, **kwargs)\n",
    "        return super().__prepare__(name, bases, **kwargs)\n",
    "\n",
    "    def __new__(mcs, name, bases, namespace):\n",
    "        print(\"__new__\", mcs, name, bases, namespace)\n",
    "        cls =  super().__new__(mcs, name, bases, namespace)\n",
    "        mcs.plugins.append(cls)\n",
    "        return cls\n",
    "   \n",
    " \n",
    "    def __init__(cls, name, bases, namespace, **kwargs):\n",
    "        print(\"__init__\", cls, name, bases, namespace, **kwargs)\n",
    "        super().__init__(name, bases, namespace)\n",
    "\n",
    "    def __call__(cls, *args, **kwargs):\n",
    "        print(\"__call__\", cls, *args, **kwargs)\n",
    "        return super().__call__(*args, **kwargs)\n"
   ]
  },
  {
   "cell_type": "code",
   "execution_count": 28,
   "id": "a0bacfcd-3c3b-4780-8306-4ce9eeda679e",
   "metadata": {},
   "outputs": [
    {
     "name": "stdout",
     "output_type": "stream",
     "text": [
      "prepare <class '__main__.Plugins'> MyClass ()\n",
      "__new__ <class '__main__.Plugins'> MyClass () {'__module__': '__main__', '__qualname__': 'MyClass', '__new__': <function MyClass.__new__ at 0x00000149108FA0C0>, '__init__': <function MyClass.__init__ at 0x00000149108FA340>, '__classcell__': <cell at 0x0000014910415090: empty>}\n",
      "__init__ <class '__main__.MyClass'> MyClass () {'__module__': '__main__', '__qualname__': 'MyClass', '__new__': <function MyClass.__new__ at 0x00000149108FA0C0>, '__init__': <function MyClass.__init__ at 0x00000149108FA340>, '__classcell__': <cell at 0x0000014910415090: Plugins object at 0x000001490F2703B0>}\n"
     ]
    }
   ],
   "source": [
    "class MyClass(metaclass=Plugins):\n",
    "    def __new__(cls, *args, **kwargs):\n",
    "        print(\"MyCLass.__new__\")\n",
    "        instance = super().__new__(cls)\n",
    "        return instance\n",
    "\n",
    "    def __init__(self):\n",
    "        print('__init__()', self)"
   ]
  },
  {
   "cell_type": "code",
   "execution_count": 29,
   "id": "61e8ab2a-0fd1-4515-a1e7-881f7f9328cc",
   "metadata": {},
   "outputs": [
    {
     "name": "stdout",
     "output_type": "stream",
     "text": [
      "__call__ <class '__main__.MyClass'>\n",
      "MyCLass.__new__\n",
      "__init__() <__main__.MyClass object at 0x0000014910458FB0>\n"
     ]
    }
   ],
   "source": [
    "myclass = MyClass()"
   ]
  },
  {
   "cell_type": "code",
   "execution_count": 31,
   "id": "87b1667a-1f5c-40be-829b-2bf8d9324b22",
   "metadata": {},
   "outputs": [
    {
     "name": "stdout",
     "output_type": "stream",
     "text": [
      "prepare <class '__main__.Plugins'> ExportationVideo ()\n",
      "__new__ <class '__main__.Plugins'> ExportationVideo () {'__module__': '__main__', '__qualname__': 'ExportationVideo'}\n",
      "__init__ <class '__main__.ExportationVideo'> ExportationVideo () {'__module__': '__main__', '__qualname__': 'ExportationVideo'}\n"
     ]
    }
   ],
   "source": [
    "class ExportationVideo(metaclass=Plugins):\n",
    "    pass"
   ]
  },
  {
   "cell_type": "code",
   "execution_count": 32,
   "id": "a76700b8-2a7d-4988-a9dc-ffc5a167836d",
   "metadata": {},
   "outputs": [
    {
     "name": "stdout",
     "output_type": "stream",
     "text": [
      "prepare <class '__main__.Plugins'> ExportationImage ()\n",
      "__new__ <class '__main__.Plugins'> ExportationImage () {'__module__': '__main__', '__qualname__': 'ExportationImage'}\n",
      "__init__ <class '__main__.ExportationImage'> ExportationImage () {'__module__': '__main__', '__qualname__': 'ExportationImage'}\n"
     ]
    }
   ],
   "source": [
    "class ExportationImage(metaclass=Plugins):\n",
    "    pass"
   ]
  },
  {
   "cell_type": "code",
   "execution_count": 33,
   "id": "24409c3b-8a16-4bc6-a635-996fc956df68",
   "metadata": {},
   "outputs": [
    {
     "name": "stdout",
     "output_type": "stream",
     "text": [
      "[<class '__main__.MyClass'>, <class '__main__.ExportationVideo'>, <class '__main__.ExportationImage'>]\n"
     ]
    }
   ],
   "source": [
    "print(Plugins.plugins)"
   ]
  },
  {
   "cell_type": "code",
   "execution_count": 41,
   "id": "27cac11e-a6d9-44ab-9e2e-765ce72042e1",
   "metadata": {},
   "outputs": [],
   "source": [
    "class InterfaceValidator(type):\n",
    "    @classmethod\n",
    "    def __prepare__(mcs, name, bases, **kwargs):\n",
    "        print(\"prepare\", mcs, name, bases, **kwargs)\n",
    "        return super().__prepare__(name, bases, **kwargs)\n",
    "\n",
    "    def __new__(mcs, name, bases, namespace):\n",
    "        print(\"__new__\", mcs, name, bases, namespace)\n",
    "        cls =  super().__new__(mcs, name, bases, namespace)\n",
    "        if \"run\" not in namespace or not callable(namespace[\"run\"]):\n",
    "            raise Exception(\"run not a method in your class\")\n",
    "        return cls\n",
    "   \n",
    " \n",
    "    def __init__(cls, name, bases, namespace, **kwargs):\n",
    "        print(\"__init__\", cls, name, bases, namespace, **kwargs)\n",
    "        super().__init__(name, bases, namespace)\n",
    "\n",
    "    def __call__(cls, *args, **kwargs):\n",
    "        print(\"__call__\", cls, *args, **kwargs)\n",
    "        return super().__call__(*args, **kwargs)"
   ]
  },
  {
   "cell_type": "code",
   "execution_count": 43,
   "id": "1a4d8ac0-36af-4a4a-9d65-4a6805029174",
   "metadata": {},
   "outputs": [
    {
     "name": "stdout",
     "output_type": "stream",
     "text": [
      "prepare <class '__main__.InterfaceValidator'> Video ()\n",
      "__new__ <class '__main__.InterfaceValidator'> Video () {'__module__': '__main__', '__qualname__': 'Video', 'run': <function Video.run at 0x00000149109CB1A0>}\n",
      "__init__ <class '__main__.Video'> Video () {'__module__': '__main__', '__qualname__': 'Video', 'run': <function Video.run at 0x00000149109CB1A0>}\n"
     ]
    }
   ],
   "source": [
    "class Video(metaclass=InterfaceValidator):\n",
    "    def run(self):\n",
    "        return 3"
   ]
  },
  {
   "cell_type": "code",
   "execution_count": 47,
   "id": "904e95d7-bbee-49f4-b043-500298cdd3e8",
   "metadata": {},
   "outputs": [],
   "source": [
    "\n",
    "def fonction_exterieure(x):\n",
    "    def fonction_interne(y):\n",
    "        return x + y\n",
    "    return fonction_interne\n",
    "fonction1 = fonction_exterieure(-1000)"
   ]
  },
  {
   "cell_type": "code",
   "execution_count": 48,
   "id": "89b9128e-95f3-47de-a19c-685e4d5b95dd",
   "metadata": {},
   "outputs": [
    {
     "data": {
      "text/plain": [
       "-996"
      ]
     },
     "execution_count": 48,
     "metadata": {},
     "output_type": "execute_result"
    }
   ],
   "source": [
    "fonction1(4)\n"
   ]
  },
  {
   "cell_type": "code",
   "execution_count": 49,
   "id": "8fafc46b-2494-47df-8936-e403932c3ec0",
   "metadata": {},
   "outputs": [],
   "source": [
    "fonction2 = fonction_exterieure(\"A\")"
   ]
  },
  {
   "cell_type": "code",
   "execution_count": 50,
   "id": "395284a6-5c97-4b22-bd2b-04b9fe06acbb",
   "metadata": {},
   "outputs": [
    {
     "data": {
      "text/plain": [
       "'AB'"
      ]
     },
     "execution_count": 50,
     "metadata": {},
     "output_type": "execute_result"
    }
   ],
   "source": [
    "fonction2(\"B\")"
   ]
  },
  {
   "cell_type": "code",
   "execution_count": null,
   "id": "2bf5d3a3-bb42-4d93-ae7d-e9c23b932727",
   "metadata": {},
   "outputs": [],
   "source": []
  }
 ],
 "metadata": {
  "kernelspec": {
   "display_name": "Python 3 (ipykernel)",
   "language": "python",
   "name": "python3"
  },
  "language_info": {
   "codemirror_mode": {
    "name": "ipython",
    "version": 3
   },
   "file_extension": ".py",
   "mimetype": "text/x-python",
   "name": "python",
   "nbconvert_exporter": "python",
   "pygments_lexer": "ipython3",
   "version": "3.12.8"
  }
 },
 "nbformat": 4,
 "nbformat_minor": 5
}
