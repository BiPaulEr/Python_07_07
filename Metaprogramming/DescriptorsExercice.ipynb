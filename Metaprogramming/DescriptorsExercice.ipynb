{
 "cells": [
  {
   "cell_type": "code",
   "execution_count": 1,
   "id": "2cc20477-c325-40bd-b949-0bdfc1779dc6",
   "metadata": {},
   "outputs": [],
   "source": [
    "class TypeValide:\n",
    "    def __init__(self, type_to_respect, name):\n",
    "        self.name = name\n",
    "        self.type_to_respect = type_to_respect\n",
    "        \n",
    "    def __get__(self, obj, objtype):\n",
    "        return getattr(obj, self.name)\n",
    "        \n",
    "    def __set__(self, obj, val):\n",
    "        if not isinstance(val, self.type_to_respect):\n",
    "            raise TypeError(\"to good type\")\n",
    "        setattr(obj, self.name, val)\n",
    "\n",
    "\n",
    "class Etudiant:\n",
    "    nom = TypeValide(str, \"attribut_nom\")\n",
    "    def __init__(self, name):\n",
    "        self.attribut_nom = name\n",
    "\n",
    "etudiant = Etudiant(\"Paul\")"
   ]
  },
  {
   "cell_type": "code",
   "execution_count": 3,
   "id": "b9124fee-d267-44f1-8484-9760f5525559",
   "metadata": {},
   "outputs": [
    {
     "name": "stdout",
     "output_type": "stream",
     "text": [
      "Paul\n"
     ]
    }
   ],
   "source": [
    "print(etudiant.nom)"
   ]
  },
  {
   "cell_type": "code",
   "execution_count": 6,
   "id": "54334d87-a146-4fc1-b6d7-8cf98979f09a",
   "metadata": {},
   "outputs": [
    {
     "name": "stdout",
     "output_type": "stream",
     "text": [
      "Martin\n"
     ]
    }
   ],
   "source": [
    "etudiant.nom = \"Martin\"\n",
    "print(etudiant.nom)"
   ]
  },
  {
   "cell_type": "code",
   "execution_count": 7,
   "id": "7d7f58eb-a070-4ba2-bd9d-e4f1631b24cc",
   "metadata": {},
   "outputs": [
    {
     "ename": "TypeError",
     "evalue": "to good type",
     "output_type": "error",
     "traceback": [
      "\u001b[31m---------------------------------------------------------------------------\u001b[39m",
      "\u001b[31mTypeError\u001b[39m                                 Traceback (most recent call last)",
      "\u001b[36mCell\u001b[39m\u001b[36m \u001b[39m\u001b[32mIn[7]\u001b[39m\u001b[32m, line 1\u001b[39m\n\u001b[32m----> \u001b[39m\u001b[32m1\u001b[39m \u001b[43metudiant\u001b[49m\u001b[43m.\u001b[49m\u001b[43mnom\u001b[49m = \u001b[32m3\u001b[39m\n",
      "\u001b[36mCell\u001b[39m\u001b[36m \u001b[39m\u001b[32mIn[1]\u001b[39m\u001b[32m, line 11\u001b[39m, in \u001b[36mTypeValide.__set__\u001b[39m\u001b[34m(self, obj, val)\u001b[39m\n\u001b[32m      9\u001b[39m \u001b[38;5;28;01mdef\u001b[39;00m\u001b[38;5;250m \u001b[39m\u001b[34m__set__\u001b[39m(\u001b[38;5;28mself\u001b[39m, obj, val):\n\u001b[32m     10\u001b[39m     \u001b[38;5;28;01mif\u001b[39;00m \u001b[38;5;129;01mnot\u001b[39;00m \u001b[38;5;28misinstance\u001b[39m(val, \u001b[38;5;28mself\u001b[39m.type_to_respect):\n\u001b[32m---> \u001b[39m\u001b[32m11\u001b[39m         \u001b[38;5;28;01mraise\u001b[39;00m \u001b[38;5;167;01mTypeError\u001b[39;00m(\u001b[33m\"\u001b[39m\u001b[33mto good type\u001b[39m\u001b[33m\"\u001b[39m)\n\u001b[32m     12\u001b[39m     \u001b[38;5;28msetattr\u001b[39m(obj, \u001b[38;5;28mself\u001b[39m.name, val)\n",
      "\u001b[31mTypeError\u001b[39m: to good type"
     ]
    }
   ],
   "source": [
    "etudiant.nom = 3"
   ]
  },
  {
   "cell_type": "code",
   "execution_count": 9,
   "id": "20f6ecba-9247-4e9f-85b1-a443aa662975",
   "metadata": {},
   "outputs": [
    {
     "name": "stdout",
     "output_type": "stream",
     "text": [
      "Ford\n"
     ]
    }
   ],
   "source": [
    "class LextureSeule:\n",
    "    def __init__(self, name):\n",
    "        self.name = name\n",
    "        \n",
    "    def __get__(self, obj, objtype):\n",
    "        return getattr(obj, self.name)\n",
    "        \n",
    "    def __set__(self, obj, val):\n",
    "        raise Exception(\"can't be change\")\n",
    "\n",
    "class Voiture:\n",
    "    marque = LextureSeule( \"attr_marque\")\n",
    "    def __init__(self, marque):\n",
    "        self.attr_marque = marque\n",
    "\n",
    "voiture = Voiture(\"Ford\")\n",
    "print(voiture.marque)"
   ]
  },
  {
   "cell_type": "code",
   "execution_count": 10,
   "id": "85d0f642-c8c0-4512-8b14-50a07184bfc5",
   "metadata": {},
   "outputs": [
    {
     "ename": "Exception",
     "evalue": "can't be change",
     "output_type": "error",
     "traceback": [
      "\u001b[31m---------------------------------------------------------------------------\u001b[39m",
      "\u001b[31mException\u001b[39m                                 Traceback (most recent call last)",
      "\u001b[36mCell\u001b[39m\u001b[36m \u001b[39m\u001b[32mIn[10]\u001b[39m\u001b[32m, line 1\u001b[39m\n\u001b[32m----> \u001b[39m\u001b[32m1\u001b[39m \u001b[43mvoiture\u001b[49m\u001b[43m.\u001b[49m\u001b[43mmarque\u001b[49m = \u001b[33m\"\u001b[39m\u001b[33mOK\u001b[39m\u001b[33m\"\u001b[39m\n",
      "\u001b[36mCell\u001b[39m\u001b[36m \u001b[39m\u001b[32mIn[9]\u001b[39m\u001b[32m, line 9\u001b[39m, in \u001b[36mLextureSeule.__set__\u001b[39m\u001b[34m(self, obj, val)\u001b[39m\n\u001b[32m      8\u001b[39m \u001b[38;5;28;01mdef\u001b[39;00m\u001b[38;5;250m \u001b[39m\u001b[34m__set__\u001b[39m(\u001b[38;5;28mself\u001b[39m, obj, val):\n\u001b[32m----> \u001b[39m\u001b[32m9\u001b[39m     \u001b[38;5;28;01mraise\u001b[39;00m \u001b[38;5;167;01mException\u001b[39;00m(\u001b[33m\"\u001b[39m\u001b[33mcan\u001b[39m\u001b[33m'\u001b[39m\u001b[33mt be change\u001b[39m\u001b[33m\"\u001b[39m)\n\u001b[32m     10\u001b[39m     etattr(obj, \u001b[38;5;28mself\u001b[39m.name, val)\n",
      "\u001b[31mException\u001b[39m: can't be change"
     ]
    }
   ],
   "source": [
    "voiture.marque = \"OK\""
   ]
  },
  {
   "cell_type": "code",
   "execution_count": 20,
   "id": "212821e4-4ad2-4da6-9c9b-5bee0e71a640",
   "metadata": {},
   "outputs": [],
   "source": [
    "class Etudiant:\n",
    "    @property\n",
    "    def name2(self):\n",
    "        return self.attribut_nom \n",
    "        \n",
    "    @name2.setter\n",
    "    def name2(self, val):\n",
    "        if not isinstance(val, str):\n",
    "            raise TypeError(\"to good type\")\n",
    "        self.attribut_nom  = val\n",
    "        \n",
    "    def __init__(self, name):\n",
    "        self.attribut_nom = name\n",
    "\n",
    "etudiant = Etudiant(\"Paul\")"
   ]
  },
  {
   "cell_type": "code",
   "execution_count": 21,
   "id": "36c416e1-81c1-4522-acdc-413a5712acc3",
   "metadata": {},
   "outputs": [
    {
     "data": {
      "text/plain": [
       "'Paul'"
      ]
     },
     "execution_count": 21,
     "metadata": {},
     "output_type": "execute_result"
    }
   ],
   "source": [
    "etudiant.name2"
   ]
  },
  {
   "cell_type": "code",
   "execution_count": 18,
   "id": "3cb46cdc-164b-46ad-a217-0b86b9bb8403",
   "metadata": {},
   "outputs": [
    {
     "ename": "TypeError",
     "evalue": "to good type",
     "output_type": "error",
     "traceback": [
      "\u001b[31m---------------------------------------------------------------------------\u001b[39m",
      "\u001b[31mTypeError\u001b[39m                                 Traceback (most recent call last)",
      "\u001b[36mCell\u001b[39m\u001b[36m \u001b[39m\u001b[32mIn[18]\u001b[39m\u001b[32m, line 1\u001b[39m\n\u001b[32m----> \u001b[39m\u001b[32m1\u001b[39m \u001b[43metudiant\u001b[49m\u001b[43m.\u001b[49m\u001b[43mname\u001b[49m = \u001b[32m5\u001b[39m\n",
      "\u001b[36mCell\u001b[39m\u001b[36m \u001b[39m\u001b[32mIn[16]\u001b[39m\u001b[32m, line 9\u001b[39m, in \u001b[36mEtudiant.name\u001b[39m\u001b[34m(self, val)\u001b[39m\n\u001b[32m      6\u001b[39m \u001b[38;5;129m@name\u001b[39m.setter\n\u001b[32m      7\u001b[39m \u001b[38;5;28;01mdef\u001b[39;00m\u001b[38;5;250m \u001b[39m\u001b[34mname\u001b[39m(\u001b[38;5;28mself\u001b[39m, val):\n\u001b[32m      8\u001b[39m     \u001b[38;5;28;01mif\u001b[39;00m \u001b[38;5;129;01mnot\u001b[39;00m \u001b[38;5;28misinstance\u001b[39m(val, \u001b[38;5;28mstr\u001b[39m):\n\u001b[32m----> \u001b[39m\u001b[32m9\u001b[39m         \u001b[38;5;28;01mraise\u001b[39;00m \u001b[38;5;167;01mTypeError\u001b[39;00m(\u001b[33m\"\u001b[39m\u001b[33mto good type\u001b[39m\u001b[33m\"\u001b[39m)\n\u001b[32m     10\u001b[39m     \u001b[38;5;28mself\u001b[39m.attribut_nom  = val\n",
      "\u001b[31mTypeError\u001b[39m: to good type"
     ]
    }
   ],
   "source": [
    "etudiant.name = 5"
   ]
  },
  {
   "cell_type": "code",
   "execution_count": 24,
   "id": "c09821df-8979-4cd5-9d43-a14daaf90cd6",
   "metadata": {},
   "outputs": [],
   "source": [
    "class Pyramide:\n",
    "    def __init__(self, longeur_base, hauteur):\n",
    "        self._hauteur = hauteur\n",
    "        self._longeur_base = longeur_base\n",
    "\n",
    "    @property\n",
    "    def longeur_base(self):\n",
    "        return self._longeur_base\n",
    "    @longeur_base.setter\n",
    "    def longeur_base(self, value):\n",
    "        if value < 0:\n",
    "            raise ValueError(\"value shloud be possitif\")\n",
    "        self._longeur_base = value\n",
    "    \n",
    "    @property\n",
    "    def hauteur(self):\n",
    "        return self._hauteur\n",
    "    @hauteur.setter\n",
    "    def hauteur(self, value):\n",
    "        if value < 0:\n",
    "            raise ValueError(\"value shloud be possitif\")\n",
    "        self._hauteur = value\n",
    "\n",
    "    @property\n",
    "    def perimeter(self):\n",
    "        return 4 * self._longeur_base\n",
    "    @property\n",
    "    def aire_base(self):\n",
    "        return self._longeur_base * self._longeur_base\n",
    "    @property\n",
    "    def volume(self):\n",
    "        return (self.aire_base * self.hauteur ) / 3\n",
    "    "
   ]
  },
  {
   "cell_type": "code",
   "execution_count": 25,
   "id": "92abe645-30a7-465e-a735-f463d4243de0",
   "metadata": {},
   "outputs": [],
   "source": [
    "pyramide = Pyramide(4, 5)"
   ]
  },
  {
   "cell_type": "code",
   "execution_count": 26,
   "id": "63e5f1ec-ae01-4ba4-8f7a-d7690a3ea483",
   "metadata": {},
   "outputs": [
    {
     "data": {
      "text/plain": [
       "5"
      ]
     },
     "execution_count": 26,
     "metadata": {},
     "output_type": "execute_result"
    }
   ],
   "source": [
    "pyramide.hauteur\n"
   ]
  },
  {
   "cell_type": "code",
   "execution_count": 27,
   "id": "d2d7bae0-9c1f-467d-acec-3bb5af0d9630",
   "metadata": {},
   "outputs": [
    {
     "data": {
      "text/plain": [
       "16"
      ]
     },
     "execution_count": 27,
     "metadata": {},
     "output_type": "execute_result"
    }
   ],
   "source": [
    "pyramide.perimeter"
   ]
  },
  {
   "cell_type": "code",
   "execution_count": 28,
   "id": "12a7471a-42be-4a81-8016-4a3e104cb4d3",
   "metadata": {},
   "outputs": [
    {
     "ename": "ValueError",
     "evalue": "value shloud be possitif",
     "output_type": "error",
     "traceback": [
      "\u001b[31m---------------------------------------------------------------------------\u001b[39m",
      "\u001b[31mValueError\u001b[39m                                Traceback (most recent call last)",
      "\u001b[36mCell\u001b[39m\u001b[36m \u001b[39m\u001b[32mIn[28]\u001b[39m\u001b[32m, line 1\u001b[39m\n\u001b[32m----> \u001b[39m\u001b[32m1\u001b[39m \u001b[43mpyramide\u001b[49m\u001b[43m.\u001b[49m\u001b[43mhauteur\u001b[49m  = -\u001b[32m5\u001b[39m\n",
      "\u001b[36mCell\u001b[39m\u001b[36m \u001b[39m\u001b[32mIn[24]\u001b[39m\u001b[32m, line 21\u001b[39m, in \u001b[36mPyramide.hauteur\u001b[39m\u001b[34m(self, value)\u001b[39m\n\u001b[32m     18\u001b[39m \u001b[38;5;129m@hauteur\u001b[39m.setter\n\u001b[32m     19\u001b[39m \u001b[38;5;28;01mdef\u001b[39;00m\u001b[38;5;250m \u001b[39m\u001b[34mhauteur\u001b[39m(\u001b[38;5;28mself\u001b[39m, value):\n\u001b[32m     20\u001b[39m     \u001b[38;5;28;01mif\u001b[39;00m value < \u001b[32m0\u001b[39m:\n\u001b[32m---> \u001b[39m\u001b[32m21\u001b[39m         \u001b[38;5;28;01mraise\u001b[39;00m \u001b[38;5;167;01mValueError\u001b[39;00m(\u001b[33m\"\u001b[39m\u001b[33mvalue shloud be possitif\u001b[39m\u001b[33m\"\u001b[39m)\n\u001b[32m     22\u001b[39m     \u001b[38;5;28mself\u001b[39m._hauteur = value\n",
      "\u001b[31mValueError\u001b[39m: value shloud be possitif"
     ]
    }
   ],
   "source": [
    "pyramide.hauteur  = -5"
   ]
  },
  {
   "cell_type": "code",
   "execution_count": null,
   "id": "186c04bf-a131-4dd6-a0fc-db1014bf696b",
   "metadata": {},
   "outputs": [],
   "source": []
  },
  {
   "cell_type": "code",
   "execution_count": null,
   "id": "dba109f9-18ef-46e9-ba9a-02293825ca3e",
   "metadata": {},
   "outputs": [],
   "source": []
  }
 ],
 "metadata": {
  "kernelspec": {
   "display_name": "Python 3 (ipykernel)",
   "language": "python",
   "name": "python3"
  },
  "language_info": {
   "codemirror_mode": {
    "name": "ipython",
    "version": 3
   },
   "file_extension": ".py",
   "mimetype": "text/x-python",
   "name": "python",
   "nbconvert_exporter": "python",
   "pygments_lexer": "ipython3",
   "version": "3.12.8"
  }
 },
 "nbformat": 4,
 "nbformat_minor": 5
}
