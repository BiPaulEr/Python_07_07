{
 "cells": [
  {
   "cell_type": "code",
   "execution_count": null,
   "id": "a169e111-bed9-4bc1-8cd0-44760b5ed87b",
   "metadata": {},
   "outputs": [],
   "source": [
    "class MyClass(object):\n",
    "    pass"
   ]
  },
  {
   "cell_type": "code",
   "execution_count": 36,
   "id": "cd8cbc62-d094-4e5b-97b8-08dd0fe7e42c",
   "metadata": {},
   "outputs": [],
   "source": [
    "class A:\n",
    "    def __init__(self, caratere, *args):\n",
    "        print(caratere, end=\" \")\n",
    "        print(args)\n",
    "        super().__init__(*args)\n",
    "\n",
    "class B:\n",
    "    def __init__(self, caratere, *args):\n",
    "        print(caratere, end=\" \")\n",
    "        super().__init__(*args)\n",
    "        \n",
    "class C(B, A):\n",
    "    def __init__(self, caractere_a, caractere_b):\n",
    "        print(\"C\", end=\" \")\n",
    "        super().__init__(caractere_a, caractere_b)"
   ]
  },
  {
   "cell_type": "code",
   "execution_count": 37,
   "id": "2944f479-0f62-4344-b63f-92429636404c",
   "metadata": {},
   "outputs": [
    {
     "data": {
      "text/plain": [
       "(__main__.C, __main__.B, __main__.A, object)"
      ]
     },
     "execution_count": 37,
     "metadata": {},
     "output_type": "execute_result"
    }
   ],
   "source": [
    "C.__mro__"
   ]
  },
  {
   "cell_type": "code",
   "execution_count": 38,
   "id": "1b59fbc7-9fa4-458f-b623-613e745804e5",
   "metadata": {},
   "outputs": [
    {
     "name": "stdout",
     "output_type": "stream",
     "text": [
      "C A B ()\n"
     ]
    }
   ],
   "source": [
    "c = C(\"A\", \"B\")"
   ]
  },
  {
   "cell_type": "code",
   "execution_count": 46,
   "id": "366a886a-5269-45af-8dbd-e5723977e442",
   "metadata": {},
   "outputs": [
    {
     "name": "stdout",
     "output_type": "stream",
     "text": [
      "prtc\n",
      "attr  private\n"
     ]
    },
    {
     "data": {
      "text/plain": [
       "'private'"
      ]
     },
     "execution_count": 46,
     "metadata": {},
     "output_type": "execute_result"
    }
   ],
   "source": [
    "class MyClass:\n",
    "    def __init__(self, private, protected, public):\n",
    "        self.__private = private\n",
    "        self._protected = protected\n",
    "        self.public = public\n",
    "    def display(self):\n",
    "        print(\"attr \" , self.__private)\n",
    "\n",
    "class MyClassHerit(MyClass):\n",
    "    def methode(self):\n",
    "        print(self._protected) #oui\n",
    "        print(self.__private) #non\n",
    "\n",
    "myclass = MyClass('private', 'prtc', 'public')\n",
    "\n",
    "print(myclass._protected)\n",
    "myclass.display()\n",
    "myclass._MyClass__private"
   ]
  },
  {
   "cell_type": "code",
   "execution_count": null,
   "id": "b8f5d835-e38d-490d-9532-02964d368d11",
   "metadata": {},
   "outputs": [],
   "source": []
  }
 ],
 "metadata": {
  "kernelspec": {
   "display_name": "Python 3 (ipykernel)",
   "language": "python",
   "name": "python3"
  },
  "language_info": {
   "codemirror_mode": {
    "name": "ipython",
    "version": 3
   },
   "file_extension": ".py",
   "mimetype": "text/x-python",
   "name": "python",
   "nbconvert_exporter": "python",
   "pygments_lexer": "ipython3",
   "version": "3.12.8"
  }
 },
 "nbformat": 4,
 "nbformat_minor": 5
}
